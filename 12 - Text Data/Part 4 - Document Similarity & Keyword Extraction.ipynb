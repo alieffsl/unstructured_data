{
 "cells": [
  {
   "cell_type": "code",
   "execution_count": 2,
   "id": "69b27cda",
   "metadata": {},
   "outputs": [],
   "source": [
    "import pandas as pd\n",
    "from nltk.tokenize import word_tokenize\n",
    "from nltk.corpus import stopwords\n",
    "from string import punctuation\n",
    "\n",
    "sw_indo = stopwords.words(\"indonesian\") + list(punctuation)"
   ]
  },
  {
   "cell_type": "code",
   "execution_count": 4,
   "id": "0fa0080a",
   "metadata": {},
   "outputs": [
    {
     "data": {
      "text/html": [
       "<div>\n",
       "<style scoped>\n",
       "    .dataframe tbody tr th:only-of-type {\n",
       "        vertical-align: middle;\n",
       "    }\n",
       "\n",
       "    .dataframe tbody tr th {\n",
       "        vertical-align: top;\n",
       "    }\n",
       "\n",
       "    .dataframe thead th {\n",
       "        text-align: right;\n",
       "    }\n",
       "</style>\n",
       "<table border=\"1\" class=\"dataframe\">\n",
       "  <thead>\n",
       "    <tr style=\"text-align: right;\">\n",
       "      <th></th>\n",
       "      <th>teks</th>\n",
       "    </tr>\n",
       "  </thead>\n",
       "  <tbody>\n",
       "    <tr>\n",
       "      <th>0</th>\n",
       "      <td>Ginandjar Tetap Ditahan. Jaksa Agung Dilaporka...</td>\n",
       "    </tr>\n",
       "    <tr>\n",
       "      <th>1</th>\n",
       "      <td>Jakarta Dikangkangi Para Preman\\nKALAU tak pun...</td>\n",
       "    </tr>\n",
       "    <tr>\n",
       "      <th>2</th>\n",
       "      <td>Penyimpangan di Setpres Seolah Terjadi Sekaran...</td>\n",
       "    </tr>\n",
       "    <tr>\n",
       "      <th>3</th>\n",
       "      <td>Dibayarkan, Rapel Kenaikan Gaji Pegawai Pos\\nK...</td>\n",
       "    </tr>\n",
       "    <tr>\n",
       "      <th>4</th>\n",
       "      <td>Stop Kekerasan, Elite agar Duduk Bersama\\nSeju...</td>\n",
       "    </tr>\n",
       "  </tbody>\n",
       "</table>\n",
       "</div>"
      ],
      "text/plain": [
       "                                                teks\n",
       "0  Ginandjar Tetap Ditahan. Jaksa Agung Dilaporka...\n",
       "1  Jakarta Dikangkangi Para Preman\\nKALAU tak pun...\n",
       "2  Penyimpangan di Setpres Seolah Terjadi Sekaran...\n",
       "3  Dibayarkan, Rapel Kenaikan Gaji Pegawai Pos\\nK...\n",
       "4  Stop Kekerasan, Elite agar Duduk Bersama\\nSeju..."
      ]
     },
     "execution_count": 4,
     "metadata": {},
     "output_type": "execute_result"
    }
   ],
   "source": [
    "# Import Data\n",
    "\n",
    "df = pd.read_csv(\"data/kompas.csv\")\n",
    "df.head()\n"
   ]
  },
  {
   "cell_type": "code",
   "execution_count": 5,
   "id": "69a17a87",
   "metadata": {},
   "outputs": [],
   "source": [
    "from sklearn.feature_extraction.text import TfidfVectorizer"
   ]
  },
  {
   "cell_type": "code",
   "execution_count": 7,
   "id": "3c91d339",
   "metadata": {},
   "outputs": [
    {
     "name": "stderr",
     "output_type": "stream",
     "text": [
      "C:\\Users\\ACER\\miniconda3\\envs\\jcop_ud\\lib\\site-packages\\sklearn\\feature_extraction\\text.py:396: UserWarning: Your stop_words may be inconsistent with your preprocessing. Tokenizing the stop words generated tokens ['``'] not in stop_words.\n",
      "  warnings.warn(\n"
     ]
    }
   ],
   "source": [
    "tfidf = TfidfVectorizer(ngram_range=(1,2), tokenizer=word_tokenize, stop_words=sw_indo)\n",
    "tfidf_matrix = tfidf.fit_transform(df.teks)"
   ]
  },
  {
   "cell_type": "markdown",
   "id": "be379a9c",
   "metadata": {},
   "source": [
    "# TFIDF Similarity -> Document Similarity "
   ]
  },
  {
   "cell_type": "code",
   "execution_count": 8,
   "id": "83268012",
   "metadata": {},
   "outputs": [],
   "source": [
    "from sklearn.metrics.pairwise import cosine_similarity"
   ]
  },
  {
   "cell_type": "code",
   "execution_count": 10,
   "id": "eb7a8c7f",
   "metadata": {},
   "outputs": [
    {
     "data": {
      "text/plain": [
       "array([[1.        , 0.00858328, 0.01060043, ..., 0.00856287, 0.00677808,\n",
       "        0.01513341]])"
      ]
     },
     "execution_count": 10,
     "metadata": {},
     "output_type": "execute_result"
    }
   ],
   "source": [
    "sim = cosine_similarity(tfidf_matrix[0], tfidf_matrix)\n",
    "sim"
   ]
  },
  {
   "cell_type": "code",
   "execution_count": 12,
   "id": "ce557d31",
   "metadata": {},
   "outputs": [
    {
     "data": {
      "text/plain": [
       "array([[ 932, 1131, 1593, ...,  215,  144,    0]], dtype=int64)"
      ]
     },
     "execution_count": 12,
     "metadata": {},
     "output_type": "execute_result"
    }
   ],
   "source": [
    "sim.argsort()"
   ]
  },
  {
   "cell_type": "code",
   "execution_count": 14,
   "id": "484ba8c4",
   "metadata": {},
   "outputs": [
    {
     "data": {
      "text/plain": [
       "'Ginandjar Tetap Ditahan. Jaksa Agung Dilaporkan ke Polri\\nKejaksaan Agung memutuskan untuk tetap menahan tersangka kasus korupsi, Ginandjar Kartasasmita, sampai batas waktu yang ditentukan KUHAP. Sedan'"
      ]
     },
     "execution_count": 14,
     "metadata": {},
     "output_type": "execute_result"
    }
   ],
   "source": [
    "df.teks[0][:200]"
   ]
  },
  {
   "cell_type": "code",
   "execution_count": 13,
   "id": "3bd74421",
   "metadata": {
    "scrolled": true
   },
   "outputs": [
    {
     "data": {
      "text/plain": [
       "'Kejaksaan Agung Terbitkan Surat Penahanan Baru\\nKejaksaan Agung (Kejagung) akhirnya menerbitkan surat perintah penahanan yang baru terhadap mantan Menteri Pertambangan dan Energi Ginandjar Kartasasmita'"
      ]
     },
     "execution_count": 13,
     "metadata": {},
     "output_type": "execute_result"
    }
   ],
   "source": [
    "df.teks[144][:200]"
   ]
  },
  {
   "cell_type": "code",
   "execution_count": 15,
   "id": "2e1ca50d",
   "metadata": {},
   "outputs": [
    {
     "data": {
      "text/plain": [
       "'Kuasa Hukum Ginandjar Bertahan di Rutan\\nSejumlah kuasa hukum Ginandjar Kartasasmita hingga hari Selasa (17/4) pukul 22.00 masih bertahan di ruang tahanan (rutan) Kejaksaan Agung (Kejagung). Selasa pag'"
      ]
     },
     "execution_count": 15,
     "metadata": {},
     "output_type": "execute_result"
    }
   ],
   "source": [
    "df.teks[215][:200]"
   ]
  },
  {
   "cell_type": "code",
   "execution_count": 16,
   "id": "121a8072",
   "metadata": {},
   "outputs": [
    {
     "data": {
      "text/plain": [
       "'Pusat Pengolahan Ikan Asin Lhokseumawe Terbakar\\nPusat pengolahan ikan asin di kawasan Pasar Ikan Lhokseumawe (Aceh) terbakar bersama berton-ton stok ikan asin Sabtu (13/1) siang. Sedikitnya 25 gudang '"
      ]
     },
     "execution_count": 16,
     "metadata": {},
     "output_type": "execute_result"
    }
   ],
   "source": [
    "df.teks[932][:200]"
   ]
  },
  {
   "cell_type": "markdown",
   "id": "24be98b6",
   "metadata": {},
   "source": [
    "# Keyword Extraction"
   ]
  },
  {
   "cell_type": "code",
   "execution_count": 18,
   "id": "add455d1",
   "metadata": {},
   "outputs": [
    {
     "data": {
      "text/plain": [
       "array(['zuniga memilih', 'zunnatul', 'zunnatul mafruhah', 'zurich',\n",
       "       'zurich northholt', 'zw', 'zw suparman', 'zw tim', 'zx',\n",
       "       'zx diserbu'], dtype=object)"
      ]
     },
     "execution_count": 18,
     "metadata": {},
     "output_type": "execute_result"
    }
   ],
   "source": [
    "vocab = tfidf.get_feature_names_out()\n",
    "vocab[-10:]"
   ]
  },
  {
   "cell_type": "code",
   "execution_count": 27,
   "id": "b7ddba13",
   "metadata": {},
   "outputs": [
    {
     "data": {
      "text/plain": [
       "array([[0.02115058, 0.        , 0.        , ..., 0.        , 0.        ,\n",
       "        0.        ]])"
      ]
     },
     "execution_count": 27,
     "metadata": {},
     "output_type": "execute_result"
    }
   ],
   "source": [
    "tfidf_matrix[0].toarray()"
   ]
  },
  {
   "cell_type": "code",
   "execution_count": 28,
   "id": "8be34d91",
   "metadata": {},
   "outputs": [
    {
     "data": {
      "text/plain": [
       "array([274212, 365469, 365468, ..., 386379, 436652, 169219], dtype=int64)"
      ]
     },
     "execution_count": 28,
     "metadata": {},
     "output_type": "execute_result"
    }
   ],
   "source": [
    "sorted_tfidf = tfidf_matrix[0].toarray()[0].argsort()\n",
    "sorted_tfidf"
   ]
  },
  {
   "cell_type": "code",
   "execution_count": 29,
   "id": "77f81b86",
   "metadata": {},
   "outputs": [
    {
     "data": {
      "text/plain": [
       "'ginandjar'"
      ]
     },
     "execution_count": 29,
     "metadata": {},
     "output_type": "execute_result"
    }
   ],
   "source": [
    "vocab[169219]"
   ]
  },
  {
   "cell_type": "code",
   "execution_count": 35,
   "id": "cfa13335",
   "metadata": {},
   "outputs": [
    {
     "data": {
      "text/plain": [
       "['ginandjar',\n",
       " 'putusan',\n",
       " 'penahanan',\n",
       " 'hukum ginandjar',\n",
       " 'kuasa hukum',\n",
       " 'rusman',\n",
       " 'kejaksaan',\n",
       " 'hakim rusman',\n",
       " 'kuasa',\n",
       " '9 april']"
      ]
     },
     "execution_count": 35,
     "metadata": {},
     "output_type": "execute_result"
    }
   ],
   "source": [
    "[vocab[idx] for idx in reversed(sorted_tfidf[-10:])]"
   ]
  },
  {
   "cell_type": "code",
   "execution_count": null,
   "id": "d21eb8d0",
   "metadata": {},
   "outputs": [],
   "source": []
  },
  {
   "cell_type": "markdown",
   "id": "605f979c",
   "metadata": {},
   "source": [
    "# Bungkus ke Function"
   ]
  },
  {
   "cell_type": "code",
   "execution_count": null,
   "id": "67e45d78",
   "metadata": {},
   "outputs": [],
   "source": []
  },
  {
   "cell_type": "code",
   "execution_count": 36,
   "id": "7cc2ad63",
   "metadata": {},
   "outputs": [],
   "source": [
    "def extract_keywords_tfidf(doc, tfidf, topk=10):\n",
    "    matrix = tfidf.transform([doc])\n",
    "    vocab = tfidf.get_feature_names_out()\n",
    "    \n",
    "    sorted_tfidf = matrix[0].toarray()[0].argsort()\n",
    "    return [vocab[idx] for idx in reversed(sorted_tfidf[-topk:])]"
   ]
  },
  {
   "cell_type": "code",
   "execution_count": 41,
   "id": "abd3385c",
   "metadata": {},
   "outputs": [],
   "source": [
    "teks = \"\"\"\n",
    "Berawal Dari Cita-Cita\n",
    "\n",
    "\n",
    "Mulanya adalah cita-cita membangun kembali Indonesia, sebuah Indonesia baru  yang idam-idamkan. Indonesia yang kuat dan dinamis, sebuah negara di mana hukum tegak sebagai pilar dan atap pelindung yang mengayomi semua anak bangsa  dalam kesetaraan, dan roda ekonomi berputar menebarkan kemakmuran dan kesejahteraan yang berkeadilan. Indonesia dalam visi para pendiri Rumah Kepemimpinan adalah Indonesia baru di mana politik dan demokrasi yang berakal sehat menjadi wahana bagi segenap rakyat yang berdaulat untuk mengekspresikan kehendak luhurnya sebagai bangsa yang beradab. Dalam cita-cita para peletak dasar lembaga ini, Indonesia baru adalah Indonesia yang bermoral tinggi, bangsa yang hidup dalam kesantunan. Indonesia yang dirindukan adalah Indonesia yang bermartabat, Indonesia yang disegani oleh bangsa-bangsa sedunia,  sekaligus menjadi rahmat bagi umat manusia dan guru bagi seluruh alam.\n",
    "\n",
    "Sebagai bangsa muslim terbesar di dunia, diyakini kita punya tanggung jawab lebih untuk membangun peradaban yang memanusiakan manusia. Kita harus tampil memimpin – bukan membebek – menunjukkan kesejatian bangsa pejuang yang mendedikasikan keberadaannya bagi kemanusiaan, sebagaimana amanat Allah SWT:\n",
    "\n",
    "     Kamu adalah umat yang terbaik yang dilahirkan untuk manusia, menyuruh kepada yang ma’ruf, dan mencegah dari yang munkar, dan beriman kepada Allah. Sekiranya ahli Kitab beriman, tentulah itu lebih baik bagi mereka. Di antara mereka ada yang beriman, dan kebanyakan mereka adalah orang-orang yang fasik. [QS. ‘Ali Imran, 3: 110]\n",
    "\n",
    "Agar mampu mengemban amanat ilahiyah dan kemanusiaan tersebut kita harus melakukan proses transformasi struktural dan kultural, dimulaidengan membangun paradigma baru kehidupan berbangsa dan bernegara yang mengedepankan moralitas dan penegakan hukum, kesantunan politik beretika, kematangan dan kearifan berdemokrasi, serta kemandirian berekonomi, di samping upaya yang sungguh-sungguh untuk membangun titik temu, kebersamaan, persatuan dan sinergi di antara berbagai komponen bangsa.\n",
    "\n",
    "Jika gagal melakukan transformasi maka bangsa ini tidak akan pernah keluar dari keterpurukkan yang hingga saat ini masih memerangkap kita. Sementara transformasi niscaya membutuhkan kehadiran sosok pemimpin yang tangguh sebagai lokomotif penggeraknya, sebagai agents of transformation.  Dengan kata lain, kualitas suatu bangsa adalah fungsi dari kualitas proses transformasinya, dan kualitas proses transformasi tersebut merupakan cerminan dari kualitas kepemimpinan para pemimpinnya.\n",
    "\n",
    "Dari seluruh komponen bangsa, pemuda, khususnya mahasiswa diyakini memiliki potensi lebih untuk dikembangkan menjadi lokomotif perubahan tersebut. Pendidikan tinggi yang dijalaninya membuat mahasiswa memiliki modal lebih besar untuk mengalami mobilitas sosial vertikal, yang pada akhirnya akan mengantarkan mereka ke posisi-posisi strategis sebagai penentu kebijakan.\n",
    "\n",
    "Dewey (1964) mengatakan: “Etimologically, the world education means just a process of leading or bringing up. When we have the outcome of the process in mind, we speak of education as shaping, forming, molding acitivity – that is as shaping into the standard form of social acitivity.”  Jelaslah bahwa peran pendidikan dalam mobilitias sosial vertikal adalah trilogi yang meliputi kendaraan (vehicle), mesin penggerak (engine), dan lintasan (track).  Pendidikanlah yang mestinya cukup besar kapasitas angkutnya (peran sebagai vehicle), cukup kuat daya dorongnya (peran sebagai engine), dan tepat arah gerak majunya (peran sebagai track), yang membuat generasi muda bangsa ini dapat menapaki piramida sosial-politik hingga ke puncaknya untuk kemudian menerima tongkat estafet kepemimpinan bangsa.\n",
    "\n",
    "Namun dalam kehidupan masyarakat dan bangsa masih terdapat kesenjangan yang sangat besar antara idealita trilogi peran pendidikan tersebut dengan realitanya.  Akses terhadap pendidikan berkualitas, yaitu pendidikan yang mampu mengemban trilogi peran tersebut, apalagi pada jenjang pendidikan tinggi, ternyata merupakan komoditas sangat mewah yang hanya bisa dinikmati oleh kalangan yang sangat terbatas. Pada tahun 1950 baru terdapat 10 institusi pendidikan tinggi yang menjadi “kendaraan”  bagi 6.500 orang generasi muda bangsa ini. Pada tahun 1970, yang merupakan awal era regim Soeharto, jumlah lembaga pendidikan tinggi, baik yang dikelola oleh pemerintah maupun swasta, melonjak menjadi 450, dengan jumlah mahasiswa sekitar 237 ribu orang. Menjelang tahun 1990 terdapat sekitar 900 perguruan tinggi yang mewadahi sekitar 1.486.000 mahasiswa.\n",
    "\n",
    "Pada tahun 2004 terdapat kurang lebih 2.376 perguruan tinggi, terdiri dari 81 institusi di bawah Depdiknas, 59 di bawah Depag, dan 2.236 dikelola masyarakat, dengan jumlah peserta didik lebih dari 2,5 juta orang. Angka Partisipasi Kasar (APK) pendidikan tinggi memang telah mengalami lompatan signifikan, yaitu dari 9% di tahun 1985 menjadi 12,8% di tahun 2002.  Namun dilihat dari angka absolutnya, dari sejutar 27 juta generasi muda berusia 19-24 tahun, masih terdapat lebih dari 24 juta orang yang belum dapat mengeyam bangku perguruan tinggi.  Angka-angka yang ada tentu saja akan semakin membuat kita prihatin jika variabel kualitas, apalagi kualitas kepemimpinan yang kemudian berhasil dibentuk, ikut menjadi pertimbangan.\n",
    "\n",
    "Keprihatinan mendalam atas situasi tersebut mengerucutkan spektrum gagasan dan pemikiran yang sejak lama berkecamuk ke arah upaya untuk melahirkan sebuah institusi yang mengambil peran strategis sebagai inkubator, sekaligus akselator, kepemimpinan baru bangsa ini, mengkristal dalam dalam tiga kata:\n",
    "\n",
    "“Inkubator Pemimpin Indonesia”\n",
    "\n",
    "Rumah Kepemimpinan bersifat non-partisan, non-profit, terbuka, profesional, relijius, dan kebersamaan. Semua kegiatannya disampaikan kepada publik secara terbuka dan bertanggung jawab serta seluruh hasil kegiatannya dipersembahkan untuk kepentingan bangsa dan negara.\n",
    "\n",
    "Visi kami\n",
    "“Inkubator Pemimpin Indonesia”\n",
    "\n",
    "Menjadi inkubator pemimpin masa depan Indonesia yang siap berkontribusi dalam transformasi dan pembangunan Bangsa menuju Indonesia Maju.\n",
    "\n",
    "Misi kami\n",
    "Pembangunan Pemuda\n",
    "Membangun paradigma Islam dan kompetensi Peserta dan Alumni Rumah Kepemimpinan yang Rendah hati, Open mind, Moderat, dan Obyektif serta Prestatif-Kontributif.\n",
    "\n",
    "Pemberdayaan Pemuda\n",
    "Mendorong dan mengarahkan mobilitas Pemimpin Muda Rumah Kepemimpinan ke berbagai bidang dan institusi strategis.\n",
    "\n",
    "Kepeloporan Pemuda\n",
    "Membangun kepeloporan Pemimpin Muda Rumah Kepemimpinan menjadi ”problem solver” dalam kehidupan berbangsa dan bernegara.\n",
    "\n",
    "Penguatan Lembaga\n",
    "Menjadikan Rumah Kepemimpinan sebagai wadah konsolidasi Para Pemimpin untuk berkontribusi mewujudkan Indonesia dan Dunia yang lebih baik dan bermartabat.\n",
    "\n",
    "Nilai ROMO-PKK\n",
    "Nilai ini adalah nilai lembaga yang dibangun kepada seluruh peserta serta alumni Rumah Kepemimpinan. Nilai ini menggambarkan bagaimana kerangka berpikir yang dibangun bersama yakni:\n",
    "\n",
    "Rendah hati\n",
    "Open mind\n",
    "Moderat\n",
    "Objektif\n",
    "\n",
    "Prestatif\n",
    "Kontributif\n",
    "Kolaboratif\n",
    "\n",
    "Idealisme Kami\n",
    "\n",
    "Betapa inginnya kami agar bangsa ini mengetahui\n",
    "bahwa mereka lebih kami cintai daripada diri kami sendiri.\n",
    "\n",
    "Kami berbangga ketika jiwa-jiwa kami gugur\n",
    "sebagai penebus bagi kehormatan mereka,\n",
    "jika memang tebusan itu yang diperlukan.\n",
    "\n",
    "Atau menjadi harga bagi tegaknya kejayaan, kemuliaan,\n",
    "dan terwujudnya cita-cita mereka, jika memang itu harga yang harus dibayar.\n",
    "\n",
    "Tiada sesuatu yang membuat kami bersikap seperti ini selain rasa cinta\n",
    "yang telah mengharu-biru hati kami,\n",
    "menguasai perasaan kami, memeras habis air mata kami,\n",
    "dan mencabut rasa ingin tidur dari pelupuk mata kami.\n",
    "\n",
    "Betapa berat rasa di hati\n",
    "ketika kami menyaksikan bencana yang mencabik-cabik bangsa ini,\n",
    "sementara kita hanya menyerah pada kehinaan dan pasrah oleh keputusasaan.\n",
    "\n",
    "Kami ingin agar bangsa ini mengetahui bahwa kami membawa misi yang bersih dan suci;\n",
    "bersih dari ambisi pribadi, bersih dari kepentingan dunia, dan bersih dari hawa nafsu.\n",
    "\n",
    "Kami tidak mengharapkan sesuatupun dari manusia;\n",
    "tidak mengharap harta benda atau imbalan lainnya,\n",
    "tidak juga popularitas, apalagi sekadar ucapan terima kasih.\n",
    "\n",
    "Yang kami harap adalah terbentuknya Indonesia yang lebih baik\n",
    "dan bermartabat serta kebaikan dari Allah, Pencipta alam semesta.\n",
    "\n",
    "\"\"\""
   ]
  },
  {
   "cell_type": "code",
   "execution_count": 42,
   "id": "049c9938",
   "metadata": {},
   "outputs": [
    {
     "data": {
      "text/plain": [
       "['bangsa',\n",
       " 'kepemimpinan',\n",
       " 'pendidikan',\n",
       " 'inkubator',\n",
       " 'transformasi',\n",
       " 'peran',\n",
       " 'kualitas',\n",
       " 'indonesia',\n",
       " 'trilogi',\n",
       " 'pemimpin']"
      ]
     },
     "execution_count": 42,
     "metadata": {},
     "output_type": "execute_result"
    }
   ],
   "source": [
    "extract_keywords_tfidf(teks,tfidf)"
   ]
  }
 ],
 "metadata": {
  "kernelspec": {
   "display_name": "Python [conda env:jcop_ud]",
   "language": "python",
   "name": "conda-env-jcop_ud-py"
  },
  "language_info": {
   "codemirror_mode": {
    "name": "ipython",
    "version": 3
   },
   "file_extension": ".py",
   "mimetype": "text/x-python",
   "name": "python",
   "nbconvert_exporter": "python",
   "pygments_lexer": "ipython3",
   "version": "3.10.12"
  },
  "varInspector": {
   "cols": {
    "lenName": 16,
    "lenType": 16,
    "lenVar": 40
   },
   "kernels_config": {
    "python": {
     "delete_cmd_postfix": "",
     "delete_cmd_prefix": "del ",
     "library": "var_list.py",
     "varRefreshCmd": "print(var_dic_list())"
    },
    "r": {
     "delete_cmd_postfix": ") ",
     "delete_cmd_prefix": "rm(",
     "library": "var_list.r",
     "varRefreshCmd": "cat(var_dic_list()) "
    }
   },
   "types_to_exclude": [
    "module",
    "function",
    "builtin_function_or_method",
    "instance",
    "_Feature"
   ],
   "window_display": false
  }
 },
 "nbformat": 4,
 "nbformat_minor": 5
}
